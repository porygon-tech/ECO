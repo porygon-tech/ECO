{
 "cells": [
  {
   "cell_type": "markdown",
   "metadata": {
    "colab_type": "text",
    "id": "view-in-github"
   },
   "source": [
    "<a href=\"https://colab.research.google.com/github/porygon-tech/ECO/blob/main/demos/coevolutionary_treajectories_and_chaos.ipynb\" target=\"_parent\"><img src=\"https://colab.research.google.com/assets/colab-badge.svg\" alt=\"Open In Colab\"/></a>"
   ]
  },
  {
   "cell_type": "markdown",
   "metadata": {
    "id": "jGLEr7zXVQEg"
   },
   "source": [
    "This notebook shows the trajectories of the 3-species model for polygenic adaptation-based coevolution. Please, open in Google Colab!\n",
    "<!--NAVIGATION-->\n",
    "<a href=\"https://colab.research.google.com/drive/18YZDWKJDrn19PnAqyWsg6-DSI9KoTLRO#scrollTo=JCSiLdZJVDZ6\"><img align=\"left\" src=\"https://colab.research.google.com/assets/colab-badge.svg\" alt=\"Open in Colab\" title=\"Open and Execute in Google Colaboratory\"></a>\n",
    "\n"
   ]
  },
  {
   "cell_type": "code",
   "execution_count": 7,
   "metadata": {
    "colab": {
     "base_uri": "https://localhost:8080/"
    },
    "id": "58a3OYyYXiUU",
    "outputId": "332ad19d-5845-4f02-f82f-2f4e27bb0706"
   },
   "outputs": [
    {
     "name": "stdout",
     "output_type": "stream",
     "text": [
      "fatal: destination path 'ECO' already exists and is not an empty directory.\n",
      "Defaulting to user installation because normal site-packages is not writeable\n",
      "Requirement already satisfied: pickle5 in /home/roman/.local/lib/python3.10/site-packages (0.0.11)\n",
      "Defaulting to user installation because normal site-packages is not writeable\n",
      "Requirement already satisfied: plotly in /home/roman/.local/lib/python3.10/site-packages (5.13.0)\n",
      "Requirement already satisfied: tenacity>=6.2.0 in /home/roman/.local/lib/python3.10/site-packages (from plotly) (8.2.1)\n"
     ]
    }
   ],
   "source": [
    "!git clone https://github.com/porygon-tech/ECO\n",
    "!pip3 install pickle5\n",
    "!pip3 install plotly"
   ]
  },
  {
   "cell_type": "code",
   "execution_count": 12,
   "metadata": {
    "id": "JCSiLdZJVDZ6"
   },
   "outputs": [
    {
     "ename": "FileNotFoundError",
     "evalue": "[Errno 2] No such file or directory: '/content/ECO'",
     "output_type": "error",
     "traceback": [
      "\u001b[0;31m---------------------------------------------------------------------------\u001b[0m",
      "\u001b[0;31mFileNotFoundError\u001b[0m                         Traceback (most recent call last)",
      "\u001b[0;32m/tmp/ipykernel_21498/1164759586.py\u001b[0m in \u001b[0;36m<cell line: 7>\u001b[0;34m()\u001b[0m\n\u001b[1;32m      5\u001b[0m \u001b[0;32mimport\u001b[0m \u001b[0mpickle5\u001b[0m\u001b[0;34m\u001b[0m\u001b[0;34m\u001b[0m\u001b[0m\n\u001b[1;32m      6\u001b[0m \u001b[0;32mimport\u001b[0m \u001b[0mbz2\u001b[0m\u001b[0;34m\u001b[0m\u001b[0;34m\u001b[0m\u001b[0m\n\u001b[0;32m----> 7\u001b[0;31m \u001b[0mchdir\u001b[0m\u001b[0;34m(\u001b[0m\u001b[0;34m'/content/ECO'\u001b[0m\u001b[0;34m)\u001b[0m\u001b[0;34m\u001b[0m\u001b[0;34m\u001b[0m\u001b[0m\n\u001b[0m\u001b[1;32m      8\u001b[0m \u001b[0mroot\u001b[0m \u001b[0;34m=\u001b[0m \u001b[0mPath\u001b[0m\u001b[0;34m(\u001b[0m\u001b[0;34m\".\"\u001b[0m\u001b[0;34m)\u001b[0m\u001b[0;34m\u001b[0m\u001b[0;34m\u001b[0m\u001b[0m\n\u001b[1;32m      9\u001b[0m \u001b[0mobj_path\u001b[0m \u001b[0;34m=\u001b[0m \u001b[0mroot\u001b[0m \u001b[0;34m/\u001b[0m \u001b[0;34m'data/obj'\u001b[0m\u001b[0;34m\u001b[0m\u001b[0;34m\u001b[0m\u001b[0m\n",
      "\u001b[0;31mFileNotFoundError\u001b[0m: [Errno 2] No such file or directory: '/content/ECO'"
     ]
    }
   ],
   "source": [
    "import plotly.express as px\n",
    "\n",
    "from os import chdir, listdir\n",
    "from pathlib import Path\n",
    "import pickle5\n",
    "import bz2\n",
    "chdir('/content/ECO')\n",
    "root = Path(\".\")\n",
    "obj_path = root / 'data/obj'"
   ]
  },
  {
   "cell_type": "code",
   "execution_count": 9,
   "metadata": {
    "colab": {
     "base_uri": "https://localhost:8080/"
    },
    "id": "A0CFRlaRb-6G",
    "outputId": "6db80009-0326-42fa-de63-6d9e638c4237"
   },
   "outputs": [
    {
     "ename": "FileNotFoundError",
     "evalue": "[Errno 2] No such file or directory: 'data/obj/trajectories'",
     "output_type": "error",
     "traceback": [
      "\u001b[0;31m---------------------------------------------------------------------------\u001b[0m",
      "\u001b[0;31mFileNotFoundError\u001b[0m                         Traceback (most recent call last)",
      "\u001b[0;32m/tmp/ipykernel_21498/3284451916.py\u001b[0m in \u001b[0;36m<cell line: 1>\u001b[0;34m()\u001b[0m\n\u001b[0;32m----> 1\u001b[0;31m \u001b[0mlistdir\u001b[0m\u001b[0;34m(\u001b[0m\u001b[0mobj_path\u001b[0m \u001b[0;34m/\u001b[0m \u001b[0;34m'trajectories'\u001b[0m \u001b[0;34m)\u001b[0m\u001b[0;34m\u001b[0m\u001b[0;34m\u001b[0m\u001b[0m\n\u001b[0m",
      "\u001b[0;31mFileNotFoundError\u001b[0m: [Errno 2] No such file or directory: 'data/obj/trajectories'"
     ]
    }
   ],
   "source": [
    "listdir(obj_path / 'trajectories' )"
   ]
  },
  {
   "cell_type": "code",
   "execution_count": null,
   "metadata": {
    "colab": {
     "base_uri": "https://localhost:8080/",
     "height": 542
    },
    "id": "PgC0Ok_1ZYSd",
    "outputId": "fd7dbc2e-9c96-4609-a173-095f02c1b67f"
   },
   "outputs": [],
   "source": [
    "#import numpy as np\n",
    "#filename=np.random.choice(listdir(obj_path / 'trajectories' )); print('imported ' + filename)\n",
    "filename='trajectory_alpha0.04_a5_t8000.obj'\n",
    "with bz2.BZ2File(obj_path / 'trajectories' / filename, 'rb') as f:\n",
    "\tdataset_temp = pickle5.load(f)\n",
    "\n",
    "fig = px.line_3d(x=dataset_temp[0],y=dataset_temp[1],z=dataset_temp[2])\n",
    "fig.update_traces(line=dict(width=0.8))\n",
    "fig.show()"
   ]
  },
  {
   "cell_type": "code",
   "execution_count": null,
   "metadata": {
    "colab": {
     "base_uri": "https://localhost:8080/",
     "height": 542
    },
    "id": "y3oLmBRUf1JK",
    "outputId": "d50188c0-2b34-4741-8bf0-2b8fa8b235f2"
   },
   "outputs": [],
   "source": [
    "filename='trajectory_alpha0.04_a4.9_t4000.obj'\n",
    "with bz2.BZ2File(obj_path / 'trajectories' / filename, 'rb') as f:\n",
    "\tdataset_temp = pickle5.load(f)\n",
    "\n",
    "fig = px.line_3d(x=dataset_temp[0],y=dataset_temp[1],z=dataset_temp[2])\n",
    "fig.update_traces(line=dict(width=0.8))\n",
    "fig.show()"
   ]
  },
  {
   "cell_type": "code",
   "execution_count": null,
   "metadata": {
    "id": "MfiR8bBOhsED"
   },
   "outputs": [],
   "source": []
  }
 ],
 "metadata": {
  "colab": {
   "authorship_tag": "ABX9TyOI5WWgglb1xB/9yYj9ADse",
   "include_colab_link": true,
   "provenance": []
  },
  "kernelspec": {
   "display_name": "Python 3 (ipykernel)",
   "language": "python",
   "name": "python3"
  },
  "language_info": {
   "codemirror_mode": {
    "name": "ipython",
    "version": 3
   },
   "file_extension": ".py",
   "mimetype": "text/x-python",
   "name": "python",
   "nbconvert_exporter": "python",
   "pygments_lexer": "ipython3",
   "version": "3.10.4"
  }
 },
 "nbformat": 4,
 "nbformat_minor": 4
}
