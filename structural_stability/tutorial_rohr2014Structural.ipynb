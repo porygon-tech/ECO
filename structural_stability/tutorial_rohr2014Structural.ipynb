{
  "nbformat": 4,
  "nbformat_minor": 0,
  "metadata": {
    "colab": {
      "provenance": [],
      "collapsed_sections": [],
      "authorship_tag": "ABX9TyMsXrydvzZjYVCB8BirnxlF",
      "include_colab_link": true
    },
    "kernelspec": {
      "name": "python3",
      "display_name": "Python 3"
    },
    "language_info": {
      "name": "python"
    }
  },
  "cells": [
    {
      "cell_type": "markdown",
      "metadata": {
        "id": "view-in-github",
        "colab_type": "text"
      },
      "source": [
        "<a href=\"https://colab.research.google.com/github/porygon-tech/ECO/blob/main/structural_stability/tutorial_rohr2014Structural.ipynb\" target=\"_parent\"><img src=\"https://colab.research.google.com/assets/colab-badge.svg\" alt=\"Open In Colab\"/></a>"
      ]
    },
    {
      "cell_type": "code",
      "source": [
        "import numpy as np\n",
        "import matplotlib.pyplot as plt\n",
        "from scipy import sparse\n",
        "from scipy.sparse import linalg"
      ],
      "metadata": {
        "id": "u4_qezRohIWm"
      },
      "execution_count": 30,
      "outputs": []
    },
    {
      "cell_type": "markdown",
      "source": [
        "Specifically, the dynamical model has the following form\n",
        "\n",
        "$$\n",
        "\\left\\{\\begin{array}{l}\n",
        "\\frac{d P_i}{d t}=P_i\\left(\\alpha_i^{(P)}-\\sum_j \\beta_{i j}^{(P)} P_j+\\frac{\\sum_j \\gamma_{i j}^{(P)} A_j}{1+h \\sum_j \\gamma_{i j}^{(P)} A_j}\\right) \\\\\n",
        "\\frac{d A_i}{d t}=A_i\\left(\\alpha_i^{(A)}-\\sum_j \\beta_{i j}^{(A)} A_j+\\frac{\\sum_j \\gamma_{i j}^{(A)} P_j}{1+h \\sum_j \\gamma_{i j}^{(A)} P_j}\\right)\n",
        "\\end{array}\\right.\n",
        "$$"
      ],
      "metadata": {
        "id": "0emO-gPfiShO"
      }
    },
    {
      "cell_type": "code",
      "source": [
        "def pdot (p,a,alpha_P,beta_P,gamma_P,h):\n",
        "\tgP_temp = np.sum(gamma_P*a.T)\n",
        "\treturn p*(alpha_P - np.sum(beta_P*p.T) + gP_temp/(1+h*gP_temp))\n",
        "\n",
        "def adot (a,p,alpha_A,beta_A,gamma_A,h):\n",
        "\tgA_temp = np.sum(gamma_A*p.T)\n",
        "\treturn a*(alpha_A - np.sum(beta_A*a.T) + gA_temp/(1+h*gA_temp))"
      ],
      "metadata": {
        "id": "MYYJTb7yhUjF"
      },
      "execution_count": 31,
      "outputs": []
    },
    {
      "cell_type": "code",
      "source": [
        "def showdata(mat, color=plt.cm.gnuplot, symmetry=False):\n",
        "\tmat = np.copy(mat)\n",
        "\tif symmetry:\n",
        "\t\ttop = np.max([np.abs(np.nanmax(mat)),np.abs(np.nanmin(mat))])\n",
        "\t\tplt.imshow(mat.astype('float32'), interpolation='none', cmap='seismic',vmax=top,vmin=-top)\n",
        "\telse:\n",
        "\t\tplt.imshow(mat.astype('float32'), interpolation='none', cmap=color)\n",
        "\tplt.colorbar()\n",
        "\tplt.show()"
      ],
      "metadata": {
        "id": "U06JecSuk6fi"
      },
      "execution_count": 32,
      "outputs": []
    },
    {
      "cell_type": "code",
      "source": [
        "n_P = 5\n",
        "n_A = 9\n",
        "h=0.1 # saturating constant of the beneficial effect of mutualisms, aka handling time. If h=0, the model becomes linear\n",
        "time_delta=0.001\n",
        "\n",
        "duration=10\n",
        "ntimesteps=int(duration/time_delta)\n",
        "p0 = np.random.randint(50,200,n_P)[:,np.newaxis].astype('float64')\n",
        "a0 = np.random.randint(50,200,n_A)[:,np.newaxis].astype('float64')"
      ],
      "metadata": {
        "id": "jArzQzkzhYfY"
      },
      "execution_count": 33,
      "outputs": []
    },
    {
      "cell_type": "code",
      "source": [
        "alpha_P = np.random.rand(n_P)[:,np.newaxis]*2\n",
        "beta_P  = np.random.rand(n_P,n_P)*0.1\n",
        "gamma_P = np.random.rand(n_P,n_A)*5\n",
        "\n",
        "alpha_A = np.random.rand(n_A)[:,np.newaxis]*4\n",
        "beta_A  = np.random.rand(n_A,n_A)*0.1\n",
        "gamma_A = np.random.rand(n_A,n_P)*5"
      ],
      "metadata": {
        "id": "JCkNd8Djhe4o"
      },
      "execution_count": 34,
      "outputs": []
    },
    {
      "cell_type": "code",
      "source": [
        "p = p0.copy()\n",
        "a = a0.copy()\n",
        "timeseries=np.zeros((n_P+n_A,ntimesteps))\n",
        "for t in range(ntimesteps):\n",
        "  p+=pdot(p,a,alpha_P,beta_P,gamma_P,h)*time_delta\n",
        "  a+=adot(a,p,alpha_A,beta_A,gamma_A,h)*time_delta\n",
        "  timeseries[:n_P ,t] = p.flatten()\n",
        "  timeseries[ n_P:,t] = a.flatten()\n",
        "\n",
        "fig = plt.figure(); ax = fig.add_subplot(111)\n",
        "ax.plot(timeseries.T)\n",
        "plt.show()"
      ],
      "metadata": {
        "colab": {
          "base_uri": "https://localhost:8080/",
          "height": 265
        },
        "id": "kJlHY7Bphk6W",
        "outputId": "2317bcf3-d4fc-45e8-fcf5-1f1d206988f3"
      },
      "execution_count": 35,
      "outputs": [
        {
          "output_type": "display_data",
          "data": {
            "text/plain": [
              "<Figure size 432x288 with 1 Axes>"
            ],
            "image/png": "[encoded data removed]"
          },
          "metadata": {
            "needs_background": "light"
          }
        }
      ]
    },
    {
      "cell_type": "markdown",
      "source": [
        "# Model of mutualism"
      ],
      "metadata": {
        "id": "3RskGLZKt59o"
      }
    },
    {
      "cell_type": "code",
      "source": [
        "#h       = 0   \n",
        "rho     = 0.2 # interspecies competition (intraguild)\n",
        "delta   = 0.5 # mutualistic trade off\n",
        "gamma_0 = 0.2 # level of mutualistic strength"
      ],
      "metadata": {
        "id": "1ENes6mIuC-4"
      },
      "execution_count": 36,
      "outputs": []
    },
    {
      "cell_type": "markdown",
      "source": [
        "First, let's set the vector of growth rates"
      ],
      "metadata": {
        "id": "ghbhkBFlvTwE"
      }
    },
    {
      "cell_type": "code",
      "source": [
        "#alpha is the growth rate vector\n",
        "alpha_A = np.random.normal(2,0.1,(n_A, 1))\n",
        "alpha_P = np.random.normal(3,0.1,(n_P, 1))\n",
        "\n",
        "#a is the growth rate vector\n",
        "a = np.append(alpha_P,alpha_A,0)"
      ],
      "metadata": {
        "id": "w3ygXL17vRb6"
      },
      "execution_count": 37,
      "outputs": []
    },
    {
      "cell_type": "markdown",
      "source": [
        "In the absence of empirical information about interspecific competition, we use a mean field approximation for the competition parameters, where we set the diagonal elements of both $\\beta$ matrices to 1 and the off-diagonals to $\\rho<1$."
      ],
      "metadata": {
        "id": "Q98KlLN_o7lz"
      }
    },
    {
      "cell_type": "code",
      "source": [
        "beta_A  = rho + np.zeros((n_A, n_A))\n",
        "beta_P  = rho + np.zeros((n_P, n_P))\n",
        "\n",
        "for i in range(n_A):\n",
        "\tbeta_A[i,i]=1\n",
        "\n",
        "for i in range(n_P):\n",
        "\tbeta_P[i,i]=1"
      ],
      "metadata": {
        "id": "Ju609dayjLq7"
      },
      "execution_count": 38,
      "outputs": []
    },
    {
      "cell_type": "markdown",
      "source": [
        "Now we create the bipartite network through a randomized matrix, where $y_{ij}=1$ if species $i$ and $j$ interact and zero otherwise."
      ],
      "metadata": {
        "id": "HcNYRtd9pYNC"
      }
    },
    {
      "cell_type": "code",
      "source": [
        "prob=0.4 #expected connectance\n",
        "y = np.random.choice((0,1),(n_A,n_P), p=(1-prob, prob))\n",
        "while np.any(y.sum(0)==0) or np.any(y.sum(1)==0):\n",
        "    y = np.random.choice((0,1),(n_A,n_P), p=(1-prob, prob));\n",
        "showdata(y)"
      ],
      "metadata": {
        "colab": {
          "base_uri": "https://localhost:8080/",
          "height": 269
        },
        "id": "EAPUVJWWpXnx",
        "outputId": "b3236347-f6a3-43f0-e329-1964109377eb"
      },
      "execution_count": 39,
      "outputs": [
        {
          "output_type": "display_data",
          "data": {
            "text/plain": [
              "<Figure size 432x288 with 2 Axes>"
            ],
            "image/png": "[encoded data removed]"
          },
          "metadata": {
            "needs_background": "light"
          }
        }
      ]
    },
    {
      "cell_type": "markdown",
      "source": [
        "As shown in a [previous study](https://www.nature.com/articles/ncomms3350?origin=ppub), the mutualistic benefit can be\n",
        "further disentangled by\n",
        "$\\gamma_{i j}=\\left(\\gamma_0 y_{i j}\\right) /\\left(k_i^\\delta\\right)$"
      ],
      "metadata": {
        "id": "mSmu__mRr7ji"
      }
    },
    {
      "cell_type": "code",
      "source": [
        "#k is the node degree\n",
        "k_A=y.sum(1)[:,np.newaxis]\n",
        "k_P=y.sum(0)[:,np.newaxis]\n",
        "\n",
        "gamma_A = (gamma_0*y  )/k_A**delta\n",
        "gamma_P = (gamma_0*y.T)/k_P**delta"
      ],
      "metadata": {
        "id": "kF7ttUorlAPU"
      },
      "execution_count": 40,
      "outputs": []
    },
    {
      "cell_type": "markdown",
      "source": [
        "# Stability condition"
      ],
      "metadata": {
        "id": "0MiOSdP6liFj"
      }
    },
    {
      "cell_type": "markdown",
      "source": [
        "\n",
        "\n",
        "We investigated the conditions in our dynamical system that any feasible equilibrium point needs to satisfy to be globally stable. To derive these conditions, we started by studying the linear Lotka-Volterra approximation ($h=0$) of the dynamical model. In this linear approximation, the model reads\n",
        "\n",
        "$$\n",
        "\\left[\\begin{array}{l}\n",
        "\\frac{d P}{d t} \\\\\n",
        "\\frac{d A}{d t}\n",
        "\\end{array}\\right]=\\operatorname{diag}\\left(\\left[\\begin{array}{l}\n",
        "P \\\\\n",
        "A\n",
        "\\end{array}\\right]\\right)\n",
        "\\times \\left(\\left[\\begin{array}{l}\n",
        "\\alpha^{(P)} \\\\\n",
        "\\alpha^{(A)}\n",
        "\\end{array}\\right]-\\underbrace{\\left[\\begin{array}{cc}\n",
        "\\beta^{(P)} & -\\gamma^{(P)} \\\\\n",
        "-\\gamma^{(A)} & \\beta^{(A)}\n",
        "\\end{array}\\right]}_{:=B}\\left[\\begin{array}{l}\n",
        "P \\\\\n",
        "A\n",
        "\\end{array}\\right]\\right)\n",
        "$$"
      ],
      "metadata": {
        "id": "ku2wAEybfiAt"
      }
    },
    {
      "cell_type": "markdown",
      "source": [
        "This ($h=0$) means that there is no saturating constant of the beneficial effect of mutualisms. Now with $\\beta$ and $\\gamma$ we can construct $B$, which is a two-by-two block matrix embedding all the interaction strengths.\n",
        "\n",
        "\n",
        "$$ \n",
        "B=\\left[\\begin{array}{cc}\n",
        "\\beta^{(P)} & -\\gamma^{(P)} \\\\\n",
        "-\\gamma^{(A)} & \\beta^{(A)}\n",
        "\\end{array}\\right]\n",
        "$$"
      ],
      "metadata": {
        "id": "My_m3Pr2muQD"
      }
    },
    {
      "cell_type": "code",
      "source": [
        "#B is the interaction matrix\n",
        "B = np.append(np.append(beta_P,-gamma_P, axis=1), np.append(-gamma_A, beta_A,axis=1), axis=0); showdata(B,symmetry=True)"
      ],
      "metadata": {
        "colab": {
          "base_uri": "https://localhost:8080/",
          "height": 269
        },
        "id": "EQv54juKsl4U",
        "outputId": "69d624fe-2d75-46f9-d21b-5a82c7cb799a"
      },
      "execution_count": 41,
      "outputs": [
        {
          "output_type": "display_data",
          "data": {
            "text/plain": [
              "<Figure size 432x288 with 2 Axes>"
            ],
            "image/png": "[encoded data removed]"
          },
          "metadata": {
            "needs_background": "light"
          }
        }
      ]
    },
    {
      "cell_type": "markdown",
      "source": [
        "1.   For this model, it has been proved that an interaction matrix $B$ that is Lyapunov–diagonally stable grants the global stability of any potential feasible equilibrium.\n",
        "\n",
        "2.   For some classes of matrices (symmetric matrices and Z-matrices, i.e. when off-diagonal elements are nonpositive), Lyapunov stability and Lyapunov diagonal stability are equivalent conditions. This makes it easier to test for Lyapunov diagonal stability, and therefore also for the property of granting global stability to any potential feasible equilibrium (Lyapunov diagonal stability is harder to check than Lyapunov stability).\n",
        "\n",
        "3.   Our interaction strength matrix B is either symmetric when\n",
        "the mutualistic trade-off is zero ($\\delta = 0$) or is a Z-matrix when the interspecific competition is zero ($\\rho = 0$).\n",
        "\n"
      ],
      "metadata": {
        "id": "H2DFEDJ1u6qO"
      }
    },
    {
      "cell_type": "code",
      "source": [
        "if not (np.real(sparse.linalg.eigs(B,k=1,which='SM', return_eigenvectors=False))[-1] > 0):\n",
        "    print(\"NOT ALL eigenvalues in the interaction matrix have positive real part, so no global stability can be guaranteed for feasible equilibrium points.\")\n",
        "else:\n",
        "    print(\"ALL eigenvalues in the interaction matrix have positive real part, so a global stability can be guaranteed for feasible equilibrium points.\")"
      ],
      "metadata": {
        "colab": {
          "base_uri": "https://localhost:8080/"
        },
        "id": "QzTPT15rIRkY",
        "outputId": "273e986b-849a-4770-b1a6-2e5b13a8b9db"
      },
      "execution_count": 28,
      "outputs": [
        {
          "output_type": "stream",
          "name": "stdout",
          "text": [
            "ALL eigenvalues in the interaction matrix have positive real part, so a global stability can be guaranteed for feasible equilibrium points.\n"
          ]
        }
      ]
    },
    {
      "cell_type": "code",
      "source": [
        "\n",
        "fig = plt.figure(figsize=(12,9))\n",
        "#-----------------------------------------\n",
        "\n",
        "mat = B.copy();\n",
        "\n",
        "ax = fig.add_subplot(221)\n",
        "top = np.max([np.abs(np.nanmax(mat)),np.abs(np.nanmin(mat))])\n",
        "pcm = ax.imshow(mat.astype('float32'), interpolation='none', cmap='seismic',vmax=top,vmin=-top)\n",
        "#fig.colorbar(pcm, ax=ax)\n",
        "ax.set_title('$\\\\rho$=' + str(rho) + ', $\\gamma_0$=' + str(gamma_0) + ', $\\delta$=' + str(delta))\n",
        "\n",
        "#-----------------------------------------\n",
        "\n",
        "#rho     = 0.0 # interspecies competition (intraguild)\n",
        "\n",
        "beta_A  = 0 + np.zeros((n_A, n_A))\n",
        "beta_P  = 0 + np.zeros((n_P, n_P))\n",
        "\n",
        "for i in range(n_A):\n",
        "\tbeta_A[i,i]=1\n",
        "\n",
        "for i in range(n_P):\n",
        "\tbeta_P[i,i]=1\n",
        "\n",
        "mat = np.append(np.append(beta_P,-gamma_P, axis=1), np.append(-gamma_A, beta_A,axis=1), axis=0);\n",
        "\n",
        "ax = fig.add_subplot(222)\n",
        "top = np.max([np.abs(np.nanmax(mat)),np.abs(np.nanmin(mat))])\n",
        "pcm = ax.imshow(mat.astype('float32'), interpolation='none', cmap='seismic',vmax=top,vmin=-top)\n",
        "#fig.colorbar(pcm, ax=ax)\n",
        "ax.set_title('No intraguild competition ($\\\\rho=0$)')\n",
        "\n",
        "#-----------------------------------------\n",
        "\n",
        "#delta   = 0.0 # mutualistic trade off\n",
        "\n",
        "beta_A  = rho + np.zeros((n_A, n_A))\n",
        "beta_P  = rho + np.zeros((n_P, n_P))\n",
        "\n",
        "for i in range(n_A):\n",
        "\tbeta_A[i,i]=1\n",
        "\n",
        "for i in range(n_P):\n",
        "\tbeta_P[i,i]=1\n",
        "\n",
        "k_A=y.sum(1)[:,np.newaxis]\n",
        "k_P=y.sum(0)[:,np.newaxis]\n",
        "\n",
        "gamma_A = (gamma_0*y  )/k_A**0\n",
        "gamma_P = (gamma_0*y.T)/k_P**0\n",
        "\n",
        "mat = np.append(np.append(beta_P,-gamma_P, axis=1), np.append(-gamma_A, beta_A,axis=1), axis=0);\n",
        "\n",
        "ax = fig.add_subplot(223)\n",
        "top = np.max([np.abs(np.nanmax(mat)),np.abs(np.nanmin(mat))])\n",
        "pcm = ax.imshow(mat.astype('float32'), interpolation='none', cmap='seismic',vmax=top,vmin=-top)\n",
        "#fig.colorbar(pcm, ax=ax)\n",
        "ax.set_title('No mutualistic trade-off ($\\delta=0$)')\n",
        "\n",
        "#-----------------------------------------\n",
        "\n",
        "#gamma_0 = 0.0 # level of mutualistic strength\n",
        "\n",
        "beta_A  = rho + np.zeros((n_A, n_A))\n",
        "beta_P  = rho + np.zeros((n_P, n_P))\n",
        "\n",
        "for i in range(n_A):\n",
        "\tbeta_A[i,i]=1\n",
        "\n",
        "for i in range(n_P):\n",
        "\tbeta_P[i,i]=1\n",
        "\n",
        "k_A=y.sum(1)[:,np.newaxis]\n",
        "k_P=y.sum(0)[:,np.newaxis]\n",
        "\n",
        "gamma_A = (0*y  )/k_A**delta\n",
        "gamma_P = (0*y.T)/k_P**delta\n",
        "\n",
        "mat = np.append(np.append(beta_P,-gamma_P, axis=1), np.append(-gamma_A, beta_A,axis=1), axis=0);\n",
        "\n",
        "ax = fig.add_subplot(224)\n",
        "top = np.max([np.abs(np.nanmax(mat)),np.abs(np.nanmin(mat))])\n",
        "pcm = ax.imshow(mat.astype('float32'), interpolation='none', cmap='seismic',vmax=top,vmin=-top)\n",
        "ax.set_title('No mutualistic strength ($\\gamma_0=0$)')\n",
        "\n",
        "#-----------------------------------------\n",
        "fig.colorbar(pcm, ax=fig.axes[:])\n",
        "\n",
        "plt.show()\n"
      ],
      "metadata": {
        "colab": {
          "base_uri": "https://localhost:8080/",
          "height": 555
        },
        "id": "mgZ9pJkHMYkr",
        "outputId": "1465978e-b3e0-490e-f532-79c0d475c56e"
      },
      "execution_count": 42,
      "outputs": [
        {
          "output_type": "display_data",
          "data": {
            "text/plain": [
              "<Figure size 864x648 with 5 Axes>"
            ],
            "image/png": "[encoded data removed]"
          },
          "metadata": {
            "needs_background": "light"
          }
        }
      ]
    },
    {
      "cell_type": "markdown",
      "source": [
        "(Above) Visualisation of the commented parameterisations of the $B$ matrix. Note that in all three cases apart from the original one, the matrix has the necessary properties to match its Lyapunov stability with its Lyapunov diagonal stability."
      ],
      "metadata": {
        "id": "5CaBdtdiUR4c"
      }
    },
    {
      "cell_type": "code",
      "source": [
        "np.all(np.linalg.eigvals(-B) < 0)"
      ],
      "metadata": {
        "id": "UUC70cmTIeoj",
        "colab": {
          "base_uri": "https://localhost:8080/"
        },
        "outputId": "930a4a12-4c31-48c7-8b3f-f58b8ad3565e"
      },
      "execution_count": null,
      "outputs": [
        {
          "output_type": "execute_result",
          "data": {
            "text/plain": [
              "True"
            ]
          },
          "metadata": {},
          "execution_count": 20
        }
      ]
    }
  ]
}