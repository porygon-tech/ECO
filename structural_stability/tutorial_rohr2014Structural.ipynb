{
 "cells": [
  {
   "cell_type": "markdown",
   "metadata": {
    "colab_type": "text",
    "id": "view-in-github"
   },
   "source": [
    "<a href=\"https://colab.research.google.com/github/porygon-tech/ECO/blob/main/structural_stability/tutorial_rohr2014Structural.ipynb\" target=\"_parent\"><img src=\"https://colab.research.google.com/assets/colab-badge.svg\" alt=\"Open In Colab\"/></a>"
   ]
  },
  {
   "cell_type": "code",
   "execution_count": 45,
   "metadata": {
    "colab": {
     "base_uri": "https://localhost:8080/"
    },
    "id": "NGgvw0xWW9yn",
    "outputId": "6ef393a7-1760-47cf-a739-f7b83d373677"
   },
   "outputs": [
    {
     "name": "stdout",
     "output_type": "stream",
     "text": [
      "Cloning into 'ECO'...\n",
      "remote: Enumerating objects: 224, done.\u001b[K\n",
      "remote: Counting objects: 100% (24/24), done.\u001b[K\n",
      "remote: Compressing objects: 100% (19/19), done.\u001b[K\n",
      "remote: Total 224 (delta 9), reused 11 (delta 3), pack-reused 200\u001b[K\n",
      "Receiving objects: 100% (224/224), 1.58 MiB | 5.92 MiB/s, done.\n",
      "Resolving deltas: 100% (91/91), done.\n"
     ]
    }
   ],
   "source": [
    "!git clone https://github.com/porygon-tech/ECO"
   ]
  },
  {
   "cell_type": "code",
   "execution_count": 3,
   "metadata": {
    "colab": {
     "base_uri": "https://localhost:8080/",
     "height": 35
    },
    "id": "L7ICRu25XW8t",
    "outputId": "56b3b18b-ad6f-4652-fb48-b4d5fa45d045"
   },
   "outputs": [
    {
     "ename": "FileNotFoundError",
     "evalue": "[Errno 2] No such file or directory: '/content/ECO'",
     "output_type": "error",
     "traceback": [
      "\u001b[0;31m---------------------------------------------------------------------------\u001b[0m",
      "\u001b[0;31mFileNotFoundError\u001b[0m                         Traceback (most recent call last)",
      "\u001b[0;32m/tmp/ipykernel_380298/681987815.py\u001b[0m in \u001b[0;36m<cell line: 2>\u001b[0;34m()\u001b[0m\n\u001b[1;32m      1\u001b[0m \u001b[0;32mfrom\u001b[0m \u001b[0mos\u001b[0m \u001b[0;32mimport\u001b[0m \u001b[0mchdir\u001b[0m\u001b[0;34m,\u001b[0m\u001b[0mgetcwd\u001b[0m\u001b[0;34m\u001b[0m\u001b[0;34m\u001b[0m\u001b[0m\n\u001b[0;32m----> 2\u001b[0;31m \u001b[0mchdir\u001b[0m\u001b[0;34m(\u001b[0m\u001b[0;34m'/content/ECO'\u001b[0m\u001b[0;34m)\u001b[0m\u001b[0;34m\u001b[0m\u001b[0;34m\u001b[0m\u001b[0m\n\u001b[0m\u001b[1;32m      3\u001b[0m \u001b[0mgetcwd\u001b[0m\u001b[0;34m(\u001b[0m\u001b[0;34m)\u001b[0m\u001b[0;34m\u001b[0m\u001b[0;34m\u001b[0m\u001b[0m\n",
      "\u001b[0;31mFileNotFoundError\u001b[0m: [Errno 2] No such file or directory: '/content/ECO'"
     ]
    }
   ],
   "source": [
    "from os import chdir,getcwd\n",
    "chdir('/content/ECO')\n",
    "getcwd()"
   ]
  },
  {
   "cell_type": "code",
   "execution_count": 4,
   "metadata": {
    "id": "NvFNOFUdXJIZ"
   },
   "outputs": [],
   "source": [
    "import sys\n",
    "sys.path.insert(0, \"./lib\")"
   ]
  },
  {
   "cell_type": "code",
   "execution_count": 5,
   "metadata": {
    "id": "c-m2fJvUXBbC"
   },
   "outputs": [
    {
     "ename": "ModuleNotFoundError",
     "evalue": "No module named 'matriX'",
     "output_type": "error",
     "traceback": [
      "\u001b[0;31m---------------------------------------------------------------------------\u001b[0m",
      "\u001b[0;31mModuleNotFoundError\u001b[0m                       Traceback (most recent call last)",
      "\u001b[0;32m/tmp/ipykernel_380298/1886230106.py\u001b[0m in \u001b[0;36m<cell line: 1>\u001b[0;34m()\u001b[0m\n\u001b[0;32m----> 1\u001b[0;31m \u001b[0;32mimport\u001b[0m \u001b[0mmatriX\u001b[0m \u001b[0;32mas\u001b[0m \u001b[0mmX\u001b[0m\u001b[0;34m\u001b[0m\u001b[0;34m\u001b[0m\u001b[0m\n\u001b[0m",
      "\u001b[0;31mModuleNotFoundError\u001b[0m: No module named 'matriX'"
     ]
    }
   ],
   "source": [
    "import matriX as mX"
   ]
  },
  {
   "cell_type": "code",
   "execution_count": 6,
   "metadata": {
    "id": "u4_qezRohIWm"
   },
   "outputs": [],
   "source": [
    "import numpy as np\n",
    "import matplotlib.pyplot as plt\n",
    "from scipy import sparse\n",
    "from scipy.sparse import linalg"
   ]
  },
  {
   "cell_type": "markdown",
   "metadata": {
    "id": "0emO-gPfiShO"
   },
   "source": [
    "Specifically, the dynamical model has the following form\n",
    "\n",
    "$$\n",
    "\\left\\{\\begin{array}{l}\n",
    "\\frac{d P_i}{d t}=P_i\\left(\\alpha_i^{(P)}-\\sum_j \\beta_{i j}^{(P)} P_j+\\frac{\\sum_j \\gamma_{i j}^{(P)} A_j}{1+h \\sum_j \\gamma_{i j}^{(P)} A_j}\\right) \\\\\n",
    "\\frac{d A_i}{d t}=A_i\\left(\\alpha_i^{(A)}-\\sum_j \\beta_{i j}^{(A)} A_j+\\frac{\\sum_j \\gamma_{i j}^{(A)} P_j}{1+h \\sum_j \\gamma_{i j}^{(A)} P_j}\\right)\n",
    "\\end{array}\\right.\n",
    "$$"
   ]
  },
  {
   "cell_type": "code",
   "execution_count": 7,
   "metadata": {
    "id": "MYYJTb7yhUjF"
   },
   "outputs": [],
   "source": [
    "def pdot (p,a,alpha_P,beta_P,gamma_P,h):\n",
    "\tgP_temp = np.sum(gamma_P*a.T)\n",
    "\treturn p*(alpha_P - np.sum(beta_P*p.T) + gP_temp/(1+h*gP_temp))\n",
    "\n",
    "def adot (a,p,alpha_A,beta_A,gamma_A,h):\n",
    "\tgA_temp = np.sum(gamma_A*p.T)\n",
    "\treturn a*(alpha_A - np.sum(beta_A*a.T) + gA_temp/(1+h*gA_temp))"
   ]
  },
  {
   "cell_type": "code",
   "execution_count": 8,
   "metadata": {
    "id": "U06JecSuk6fi"
   },
   "outputs": [],
   "source": [
    "def showdata(mat, color=plt.cm.gnuplot, symmetry=False):\n",
    "\tmat = np.copy(mat)\n",
    "\tif symmetry:\n",
    "\t\ttop = np.max([np.abs(np.nanmax(mat)),np.abs(np.nanmin(mat))])\n",
    "\t\tplt.imshow(mat.astype('float32'), interpolation='none', cmap='seismic',vmax=top,vmin=-top)\n",
    "\telse:\n",
    "\t\tplt.imshow(mat.astype('float32'), interpolation='none', cmap=color)\n",
    "\tplt.colorbar()\n",
    "\tplt.show()"
   ]
  },
  {
   "cell_type": "code",
   "execution_count": 9,
   "metadata": {
    "id": "jArzQzkzhYfY"
   },
   "outputs": [],
   "source": [
    "n_P = 5\n",
    "n_A = 9\n",
    "h=0.1 # saturating constant of the beneficial effect of mutualisms, aka handling time. If h=0, the model becomes linear\n",
    "time_delta=0.001\n",
    "\n",
    "duration=10\n",
    "ntimesteps=int(duration/time_delta)\n",
    "p0 = np.random.randint(50,200,n_P)[:,np.newaxis].astype('float64')\n",
    "a0 = np.random.randint(50,200,n_A)[:,np.newaxis].astype('float64')"
   ]
  },
  {
   "cell_type": "code",
   "execution_count": 10,
   "metadata": {
    "id": "JCkNd8Djhe4o"
   },
   "outputs": [],
   "source": [
    "alpha_P = np.random.rand(n_P)[:,np.newaxis]*2\n",
    "beta_P  = np.random.rand(n_P,n_P)*0.1\n",
    "gamma_P = np.random.rand(n_P,n_A)*5\n",
    "\n",
    "alpha_A = np.random.rand(n_A)[:,np.newaxis]*4\n",
    "beta_A  = np.random.rand(n_A,n_A)*0.1\n",
    "gamma_A = np.random.rand(n_A,n_P)*5"
   ]
  },
  {
   "cell_type": "code",
   "execution_count": 11,
   "metadata": {
    "colab": {
     "base_uri": "https://localhost:8080/",
     "height": 266
    },
    "id": "kJlHY7Bphk6W",
    "outputId": "2f96741c-c344-4f7b-b27d-c95678c17e4d"
   },
   "outputs": [
    {
     "data": {
      "image/png": "[encoded data removed]",
      "text/plain": [
       "<Figure size 432x288 with 1 Axes>"
      ]
     },
     "metadata": {
      "needs_background": "light"
     },
     "output_type": "display_data"
    }
   ],
   "source": [
    "p = p0.copy()\n",
    "a = a0.copy()\n",
    "timeseries=np.zeros((n_P+n_A,ntimesteps))\n",
    "for t in range(ntimesteps):\n",
    "  p+=pdot(p,a,alpha_P,beta_P,gamma_P,h)*time_delta\n",
    "  a+=adot(a,p,alpha_A,beta_A,gamma_A,h)*time_delta\n",
    "  timeseries[:n_P ,t] = p.flatten()\n",
    "  timeseries[ n_P:,t] = a.flatten()\n",
    "\n",
    "fig = plt.figure(); ax = fig.add_subplot(111)\n",
    "ax.plot(timeseries.T)\n",
    "plt.show()"
   ]
  },
  {
   "cell_type": "markdown",
   "metadata": {
    "id": "3RskGLZKt59o"
   },
   "source": [
    "# Model of mutualism"
   ]
  },
  {
   "cell_type": "code",
   "execution_count": 55,
   "metadata": {
    "id": "1ENes6mIuC-4"
   },
   "outputs": [],
   "source": [
    "#h       = 0   \n",
    "rho     = 0.2 # interspecies competition (intraguild)\n",
    "delta   = 0.5 # mutualistic trade off\n",
    "gamma_0 = 0.2 # level of mutualistic strength"
   ]
  },
  {
   "cell_type": "markdown",
   "metadata": {
    "id": "ghbhkBFlvTwE"
   },
   "source": [
    "First, let's set the vector of growth rates"
   ]
  },
  {
   "cell_type": "code",
   "execution_count": 56,
   "metadata": {
    "id": "w3ygXL17vRb6"
   },
   "outputs": [],
   "source": [
    "#alpha is the growth rate vector\n",
    "alpha_A = np.random.normal(2,0.1,(n_A, 1))\n",
    "alpha_P = np.random.normal(3,0.1,(n_P, 1))\n",
    "\n",
    "#a is the growth rate vector\n",
    "a = np.append(alpha_P,alpha_A,0)"
   ]
  },
  {
   "cell_type": "markdown",
   "metadata": {
    "id": "Q98KlLN_o7lz"
   },
   "source": [
    "In the absence of empirical information about interspecific competition, we use a mean field approximation for the competition parameters, where we set the diagonal elements of both $\\beta$ matrices to 1 and the off-diagonals to $\\rho<1$."
   ]
  },
  {
   "cell_type": "code",
   "execution_count": 57,
   "metadata": {
    "id": "Ju609dayjLq7"
   },
   "outputs": [],
   "source": [
    "beta_A  = rho + np.zeros((n_A, n_A))\n",
    "beta_P  = rho + np.zeros((n_P, n_P))\n",
    "\n",
    "for i in range(n_A):\n",
    "\tbeta_A[i,i]=1\n",
    "\n",
    "for i in range(n_P):\n",
    "\tbeta_P[i,i]=1"
   ]
  },
  {
   "cell_type": "markdown",
   "metadata": {
    "id": "HcNYRtd9pYNC"
   },
   "source": [
    "Now we create the bipartite network through a randomized matrix, where $y_{ij}=1$ if species $i$ and $j$ interact and zero otherwise."
   ]
  },
  {
   "cell_type": "code",
   "execution_count": 119,
   "metadata": {
    "colab": {
     "base_uri": "https://localhost:8080/",
     "height": 269
    },
    "id": "EAPUVJWWpXnx",
    "outputId": "cd164e75-4494-49fd-a917-84b8243662eb"
   },
   "outputs": [
    {
     "data": {
      "image/png": "[encoded data removed]",
      "text/plain": [
       "<Figure size 432x288 with 2 Axes>"
      ]
     },
     "metadata": {
      "needs_background": "light"
     },
     "output_type": "display_data"
    }
   ],
   "source": [
    "prob=0.4 #expected connectance\n",
    "y = np.random.choice((0,1),(n_A,n_P), p=(1-prob, prob))\n",
    "while np.any(y.sum(0)==0) or np.any(y.sum(1)==0):\n",
    "    y = np.random.choice((0,1),(n_A,n_P), p=(1-prob, prob));\n",
    "showdata(y)"
   ]
  },
  {
   "cell_type": "markdown",
   "metadata": {
    "id": "mSmu__mRr7ji"
   },
   "source": [
    "As shown in a [previous study](https://www.nature.com/articles/ncomms3350?origin=ppub), the mutualistic benefit can be\n",
    "further disentangled by\n",
    "$\\gamma_{i j}=\\left(\\gamma_0 y_{i j}\\right) /\\left(k_i^\\delta\\right)$"
   ]
  },
  {
   "cell_type": "code",
   "execution_count": 120,
   "metadata": {
    "id": "kF7ttUorlAPU"
   },
   "outputs": [],
   "source": [
    "#k is the node degree\n",
    "k_A=y.sum(1)[:,np.newaxis]\n",
    "k_P=y.sum(0)[:,np.newaxis]\n",
    "\n",
    "gamma_A = (gamma_0*y  )/k_A**delta\n",
    "gamma_P = (gamma_0*y.T)/k_P**delta"
   ]
  },
  {
   "cell_type": "markdown",
   "metadata": {
    "id": "0MiOSdP6liFj"
   },
   "source": [
    "# Stability condition"
   ]
  },
  {
   "cell_type": "markdown",
   "metadata": {
    "id": "ku2wAEybfiAt"
   },
   "source": [
    "\n",
    "\n",
    "We investigated the conditions in our dynamical system that any feasible equilibrium point needs to satisfy to be globally stable. To derive these conditions, we started by studying the linear Lotka-Volterra approximation ($h=0$) of the dynamical model. In this linear approximation, the model reads\n",
    "\n",
    "$$\n",
    "\\left[\\begin{array}{l}\n",
    "\\frac{d P}{d t} \\\\\n",
    "\\frac{d A}{d t}\n",
    "\\end{array}\\right]=\\operatorname{diag}\\left(\\left[\\begin{array}{l}\n",
    "P \\\\\n",
    "A\n",
    "\\end{array}\\right]\\right)\n",
    "\\times \\left(\\left[\\begin{array}{l}\n",
    "\\alpha^{(P)} \\\\\n",
    "\\alpha^{(A)}\n",
    "\\end{array}\\right]-\\underbrace{\\left[\\begin{array}{cc}\n",
    "\\beta^{(P)} & -\\gamma^{(P)} \\\\\n",
    "-\\gamma^{(A)} & \\beta^{(A)}\n",
    "\\end{array}\\right]}_{:=B}\\left[\\begin{array}{l}\n",
    "P \\\\\n",
    "A\n",
    "\\end{array}\\right]\\right)\n",
    "$$"
   ]
  },
  {
   "cell_type": "markdown",
   "metadata": {
    "id": "My_m3Pr2muQD"
   },
   "source": [
    "This ($h=0$) means that there is no saturating constant of the beneficial effect of mutualisms. Now with $\\beta$ and $\\gamma$ we can construct $B$, which is a two-by-two block matrix embedding all the interaction strengths.\n",
    "\n",
    "\n",
    "$$ \n",
    "B=\\left[\\begin{array}{cc}\n",
    "\\beta^{(P)} & -\\gamma^{(P)} \\\\\n",
    "-\\gamma^{(A)} & \\beta^{(A)}\n",
    "\\end{array}\\right]\n",
    "$$"
   ]
  },
  {
   "cell_type": "code",
   "execution_count": 121,
   "metadata": {
    "colab": {
     "base_uri": "https://localhost:8080/",
     "height": 269
    },
    "id": "EQv54juKsl4U",
    "outputId": "468699a4-91be-4a54-dfe6-b6440567ea15"
   },
   "outputs": [
    {
     "data": {
      "image/png": "[encoded data removed]",
      "text/plain": [
       "<Figure size 432x288 with 2 Axes>"
      ]
     },
     "metadata": {
      "needs_background": "light"
     },
     "output_type": "display_data"
    }
   ],
   "source": [
    "#B is the interaction matrix\n",
    "B = np.append(np.append(beta_P,-gamma_P, axis=1), np.append(-gamma_A, beta_A,axis=1), axis=0); showdata(B,symmetry=True)"
   ]
  },
  {
   "cell_type": "markdown",
   "metadata": {
    "id": "H2DFEDJ1u6qO"
   },
   "source": [
    "1.   For this model, it has been proved that an interaction matrix $B$ that is Lyapunov–diagonally stable grants the global stability of any potential feasible equilibrium.\n",
    "\n",
    "2.   For some classes of matrices (symmetric matrices and Z-matrices, i.e. when off-diagonal elements are nonpositive), Lyapunov stability and Lyapunov diagonal stability are equivalent conditions. This makes it easier to test for Lyapunov diagonal stability, and therefore also for the property of granting global stability to any potential feasible equilibrium (Lyapunov diagonal stability is harder to check than Lyapunov stability).\n",
    "\n",
    "3.   Our interaction strength matrix B is either symmetric when\n",
    "the mutualistic trade-off is zero ($\\delta = 0$) or is a Z-matrix when the interspecific competition is zero ($\\rho = 0$).\n",
    "\n"
   ]
  },
  {
   "cell_type": "code",
   "execution_count": 122,
   "metadata": {
    "colab": {
     "base_uri": "https://localhost:8080/"
    },
    "id": "QzTPT15rIRkY",
    "outputId": "e06d58a5-2dcf-4a4a-84b4-7bacfbc9aa0a"
   },
   "outputs": [
    {
     "name": "stdout",
     "output_type": "stream",
     "text": [
      "ALL eigenvalues in the interaction matrix have positive real part, so a global stability can be guaranteed for feasible equilibrium points.\n"
     ]
    }
   ],
   "source": [
    "if not (np.real(sparse.linalg.eigs(B,k=1,which='SM', return_eigenvectors=False))[-1] > 0):\n",
    "    print(\"NOT ALL eigenvalues in the interaction matrix have positive real part, so no global stability can be guaranteed for feasible equilibrium points.\")\n",
    "else:\n",
    "    print(\"ALL eigenvalues in the interaction matrix have positive real part, so a global stability can be guaranteed for feasible equilibrium points.\")"
   ]
  },
  {
   "cell_type": "code",
   "execution_count": 123,
   "metadata": {
    "colab": {
     "base_uri": "https://localhost:8080/",
     "height": 555
    },
    "id": "mgZ9pJkHMYkr",
    "outputId": "d206d2ba-8d93-4ce8-9aa9-ca28e776fa9b"
   },
   "outputs": [
    {
     "data": {
      "image/png": "[encoded data removed]",
      "text/plain": [
       "<Figure size 864x648 with 5 Axes>"
      ]
     },
     "metadata": {
      "needs_background": "light"
     },
     "output_type": "display_data"
    }
   ],
   "source": [
    "\n",
    "fig = plt.figure(figsize=(12,9))\n",
    "#-----------------------------------------\n",
    "\n",
    "mat = B.copy();\n",
    "\n",
    "ax = fig.add_subplot(221)\n",
    "top = np.max([np.abs(np.nanmax(mat)),np.abs(np.nanmin(mat))])\n",
    "pcm = ax.imshow(mat.astype('float32'), interpolation='none', cmap='seismic',vmax=top,vmin=-top)\n",
    "#fig.colorbar(pcm, ax=ax)\n",
    "ax.set_title('$\\\\rho$=' + str(rho) + ', $\\gamma_0$=' + str(gamma_0) + ', $\\delta$=' + str(delta))\n",
    "\n",
    "#-----------------------------------------\n",
    "\n",
    "#rho     = 0.0 # interspecies competition (intraguild)\n",
    "\n",
    "beta_A  = 0 + np.zeros((n_A, n_A))\n",
    "beta_P  = 0 + np.zeros((n_P, n_P))\n",
    "\n",
    "for i in range(n_A):\n",
    "\tbeta_A[i,i]=1\n",
    "\n",
    "for i in range(n_P):\n",
    "\tbeta_P[i,i]=1\n",
    "\n",
    "mat = np.append(np.append(beta_P,-gamma_P, axis=1), np.append(-gamma_A, beta_A,axis=1), axis=0);\n",
    "B_zero_rho=mat.copy()\n",
    "\n",
    "ax = fig.add_subplot(222)\n",
    "top = np.max([np.abs(np.nanmax(mat)),np.abs(np.nanmin(mat))])\n",
    "pcm = ax.imshow(mat.astype('float32'), interpolation='none', cmap='seismic',vmax=top,vmin=-top)\n",
    "#fig.colorbar(pcm, ax=ax)\n",
    "ax.set_title('No intraguild competition ($\\\\rho=0$)')\n",
    "\n",
    "#-----------------------------------------\n",
    "\n",
    "#delta   = 0.0 # mutualistic trade off\n",
    "\n",
    "beta_A  = rho + np.zeros((n_A, n_A))\n",
    "beta_P  = rho + np.zeros((n_P, n_P))\n",
    "\n",
    "for i in range(n_A):\n",
    "\tbeta_A[i,i]=1\n",
    "\n",
    "for i in range(n_P):\n",
    "\tbeta_P[i,i]=1\n",
    "\n",
    "k_A=y.sum(1)[:,np.newaxis]\n",
    "k_P=y.sum(0)[:,np.newaxis]\n",
    "\n",
    "gamma_A_deltazero = (gamma_0*y  )/k_A**0\n",
    "gamma_P_deltazero = (gamma_0*y.T)/k_P**0\n",
    "\n",
    "mat = np.append(np.append(beta_P,-gamma_P_deltazero, axis=1), np.append(-gamma_A_deltazero, beta_A,axis=1), axis=0);\n",
    "B_zero_delta=mat.copy()\n",
    "\n",
    "ax = fig.add_subplot(223)\n",
    "top = np.max([np.abs(np.nanmax(mat)),np.abs(np.nanmin(mat))])\n",
    "pcm = ax.imshow(mat.astype('float32'), interpolation='none', cmap='seismic',vmax=top,vmin=-top)\n",
    "#fig.colorbar(pcm, ax=ax)\n",
    "ax.set_title('No mutualistic trade-off ($\\delta=0$)')\n",
    "\n",
    "#-----------------------------------------\n",
    "\n",
    "#gamma_0 = 0.0 # level of mutualistic strength\n",
    "\n",
    "beta_A  = rho + np.zeros((n_A, n_A))\n",
    "beta_P  = rho + np.zeros((n_P, n_P))\n",
    "\n",
    "for i in range(n_A):\n",
    "\tbeta_A[i,i]=1\n",
    "\n",
    "for i in range(n_P):\n",
    "\tbeta_P[i,i]=1\n",
    "\n",
    "k_A=y.sum(1)[:,np.newaxis]\n",
    "k_P=y.sum(0)[:,np.newaxis]\n",
    "\n",
    "gamma_A_gamma_0zero = (0*y  )/k_A**delta\n",
    "gamma_P_gamma_0zero = (0*y.T)/k_P**delta\n",
    "\n",
    "mat = np.append(np.append(beta_P,-gamma_P_gamma_0zero, axis=1), np.append(-gamma_A_gamma_0zero, beta_A,axis=1), axis=0);\n",
    "B_zero_gamma_0=mat.copy()\n",
    "\n",
    "ax = fig.add_subplot(224)\n",
    "top = np.max([np.abs(np.nanmax(mat)),np.abs(np.nanmin(mat))])\n",
    "pcm = ax.imshow(mat.astype('float32'), interpolation='none', cmap='seismic',vmax=top,vmin=-top)\n",
    "ax.set_title('No mutualistic strength ($\\gamma_0=0$)')\n",
    "\n",
    "#-----------------------------------------\n",
    "fig.colorbar(pcm, ax=fig.axes[:])\n",
    "\n",
    "plt.show()\n"
   ]
  },
  {
   "cell_type": "markdown",
   "metadata": {
    "id": "5CaBdtdiUR4c"
   },
   "source": [
    "(Above) Visualisation of the commented parameterisations of the $B$ matrix. Note that in all three cases apart from the original one, the matrix has the necessary properties to match its Lyapunov stability with its Lyapunov diagonal stability."
   ]
  },
  {
   "cell_type": "code",
   "execution_count": 124,
   "metadata": {
    "colab": {
     "base_uri": "https://localhost:8080/"
    },
    "id": "UUC70cmTIeoj",
    "outputId": "75172bc3-dbde-4c5b-80c4-c4506be424d5"
   },
   "outputs": [
    {
     "data": {
      "text/plain": [
       "True"
      ]
     },
     "execution_count": 124,
     "metadata": {},
     "output_type": "execute_result"
    }
   ],
   "source": [
    "np.all(np.linalg.eigvals(-B) < 0)"
   ]
  },
  {
   "cell_type": "code",
   "execution_count": 76,
   "metadata": {
    "colab": {
     "base_uri": "https://localhost:8080/",
     "height": 269
    },
    "id": "K_5LLLVxY1Wa",
    "outputId": "15bafba1-caf5-4c32-a805-1ae17eda7967"
   },
   "outputs": [
    {
     "data": {
      "image/png": "[encoded data removed]",
      "text/plain": [
       "<Figure size 432x288 with 2 Axes>"
      ]
     },
     "metadata": {
      "needs_background": "light"
     },
     "output_type": "display_data"
    }
   ],
   "source": [
    "showdata(B,symmetry=True)"
   ]
  },
  {
   "cell_type": "code",
   "execution_count": 140,
   "metadata": {
    "colab": {
     "base_uri": "https://localhost:8080/"
    },
    "id": "PrvTZKPotzfY",
    "outputId": "10001d99-d74e-41e2-dfae-9ce2456e8181"
   },
   "outputs": [
    {
     "data": {
      "text/plain": [
       "True"
      ]
     },
     "execution_count": 140,
     "metadata": {},
     "output_type": "execute_result"
    }
   ],
   "source": [
    "mX.is_symmetric(B_zero_delta)"
   ]
  },
  {
   "cell_type": "code",
   "execution_count": 147,
   "metadata": {
    "colab": {
     "base_uri": "https://localhost:8080/"
    },
    "id": "FEtp-DRWttgr",
    "outputId": "41153b25-42e5-4560-c874-ffbc6ee9c48f"
   },
   "outputs": [
    {
     "data": {
      "text/plain": [
       "True"
      ]
     },
     "execution_count": 147,
     "metadata": {},
     "output_type": "execute_result"
    }
   ],
   "source": [
    "mX.is_Dstable(-B,maxiter=2000, ntries=5)"
   ]
  },
  {
   "cell_type": "code",
   "execution_count": 148,
   "metadata": {
    "colab": {
     "base_uri": "https://localhost:8080/"
    },
    "id": "leQZ8PA6Y-7C",
    "outputId": "8d83483e-b52d-4ae3-e673-ec0483bc5da8"
   },
   "outputs": [
    {
     "data": {
      "text/plain": [
       "True"
      ]
     },
     "execution_count": 148,
     "metadata": {},
     "output_type": "execute_result"
    }
   ],
   "source": [
    "mX.is_Dstable(-B_zero_delta,maxiter=2000, ntries=5)"
   ]
  },
  {
   "cell_type": "code",
   "execution_count": 139,
   "metadata": {
    "colab": {
     "base_uri": "https://localhost:8080/"
    },
    "id": "6Bko3AUoZjfa",
    "outputId": "eeec8898-ac9e-42ac-e9db-289c542d6603"
   },
   "outputs": [
    {
     "data": {
      "text/plain": [
       "True"
      ]
     },
     "execution_count": 139,
     "metadata": {},
     "output_type": "execute_result"
    }
   ],
   "source": [
    "mX.is_Dstable(-B_zero_rho,maxiter=2000, ntries=5)"
   ]
  },
  {
   "cell_type": "code",
   "execution_count": 152,
   "metadata": {
    "colab": {
     "base_uri": "https://localhost:8080/"
    },
    "id": "eLSAVvUHZnfl",
    "outputId": "0f1e40b7-fa00-4d02-fdce-3bf5fb611e30"
   },
   "outputs": [
    {
     "data": {
      "text/plain": [
       "[-8.485106594389044e-10,\n",
       " -8.401466015312634e-10,\n",
       " -8.485105423939608e-10,\n",
       " -8.488127200144332e-10,\n",
       " -8.485104860044868e-10]"
      ]
     },
     "execution_count": 152,
     "metadata": {},
     "output_type": "execute_result"
    }
   ],
   "source": [
    "minVs = mX.is_Dstable(-B, maxiter=3000,fullresult=True)\n",
    "[-minV['fun'] for minV in minVs]"
   ]
  },
  {
   "cell_type": "code",
   "execution_count": 149,
   "metadata": {
    "colab": {
     "base_uri": "https://localhost:8080/"
    },
    "id": "Svl0XhFja35R",
    "outputId": "0d906f83-b1e0-49c6-bc58-ee3e60c31e7d"
   },
   "outputs": [
    {
     "data": {
      "text/plain": [
       "True"
      ]
     },
     "execution_count": 149,
     "metadata": {},
     "output_type": "execute_result"
    }
   ],
   "source": [
    "mX.is_Lyapunovstable(-B)"
   ]
  },
  {
   "cell_type": "code",
   "execution_count": 151,
   "metadata": {
    "colab": {
     "base_uri": "https://localhost:8080/"
    },
    "id": "XURWOq0zarR_",
    "outputId": "fcf9f6ec-677b-4d3b-9601-df484f53a3bc"
   },
   "outputs": [
    {
     "name": "stdout",
     "output_type": "stream",
     "text": [
      "-0.15346312556579006\n",
      "-0.16017477723213647\n",
      "-0.02830849935442026\n",
      "-0.09085815490178202\n",
      "-0.1314880029647353\n",
      "-0.08610160389676537\n",
      "-0.08807964481895275\n",
      "-0.2518939960277282\n",
      "-0.05300325769839005\n",
      "-0.054540260390868685\n",
      "-0.046438045469625835\n",
      "-0.01984723595877189\n",
      "-0.056359696875607726\n",
      "-0.08803087186319009\n",
      "-0.10672958779597623\n",
      "-0.1489564070838453\n",
      "-0.008648533225854637\n",
      "-0.10348241776545233\n",
      "-0.014501351241826587\n",
      "-0.2818702974034374\n"
     ]
    }
   ],
   "source": [
    "\n",
    "D = -B_zero_rho.copy()\n",
    "\n",
    "D = -B.copy()\n",
    "#D = np.random.rand(B.shape[0],B.shape[0])*2-1\n",
    "for _ in range(20):\n",
    "    print(np.max(np.real(np.linalg.eigvals(np.dot(np.diag(np.random.rand(D.shape[0])*10*np.max(D)),D)))))\n"
   ]
  },
  {
   "cell_type": "code",
   "execution_count": 134,
   "metadata": {
    "colab": {
     "base_uri": "https://localhost:8080/",
     "height": 269
    },
    "id": "7kIbO34YuT0N",
    "outputId": "32bcff04-078c-4212-d0f1-ba61f261c8de"
   },
   "outputs": [
    {
     "data": {
      "image/png": "[encoded data removed]",
      "text/plain": [
       "<Figure size 432x288 with 2 Axes>"
      ]
     },
     "metadata": {
      "needs_background": "light"
     },
     "output_type": "display_data"
    }
   ],
   "source": [
    "showdata(D, symmetry=True)"
   ]
  }
 ],
 "metadata": {
  "colab": {
   "authorship_tag": "ABX9TyPob0qcyUF8awC9pX5KA7H4",
   "collapsed_sections": [],
   "include_colab_link": true,
   "provenance": []
  },
  "kernelspec": {
   "display_name": "Python 3 (ipykernel)",
   "language": "python",
   "name": "python3"
  },
  "language_info": {
   "codemirror_mode": {
    "name": "ipython",
    "version": 3
   },
   "file_extension": ".py",
   "mimetype": "text/x-python",
   "name": "python",
   "nbconvert_exporter": "python",
   "pygments_lexer": "ipython3",
   "version": "3.10.4"
  }
 },
 "nbformat": 4,
 "nbformat_minor": 4
}
